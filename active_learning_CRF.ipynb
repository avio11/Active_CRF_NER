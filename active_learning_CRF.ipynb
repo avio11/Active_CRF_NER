{
  "nbformat": 4,
  "nbformat_minor": 0,
  "metadata": {
    "colab": {
      "name": "active_learning_CRF.ipynb",
      "provenance": [],
      "collapsed_sections": []
    },
    "kernelspec": {
      "name": "python3",
      "display_name": "Python 3"
    }
  },
  "cells": [
    {
      "cell_type": "code",
      "metadata": {
        "id": "ronk6EAGtPrF",
        "colab_type": "code",
        "colab": {
          "base_uri": "https://localhost:8080/",
          "height": 35
        },
        "outputId": "159f4973-8a9d-4983-8aea-8bf8752029ee"
      },
      "source": [
        "from google.colab import drive\n",
        "drive.mount('/content/drive')"
      ],
      "execution_count": 1,
      "outputs": [
        {
          "output_type": "stream",
          "text": [
            "Drive already mounted at /content/drive; to attempt to forcibly remount, call drive.mount(\"/content/drive\", force_remount=True).\n"
          ],
          "name": "stdout"
        }
      ]
    },
    {
      "cell_type": "markdown",
      "metadata": {
        "id": "sJ6gO2WmupFD",
        "colab_type": "text"
      },
      "source": [
        "<h1> Data preprocessing </h1>"
      ]
    },
    {
      "cell_type": "code",
      "metadata": {
        "id": "aQLMp_KktWWz",
        "colab_type": "code",
        "colab": {}
      },
      "source": [
        "path = '/content/drive/My Drive/CONLL03/'\n",
        "\n",
        "train = open(path+'eng_train.txt', 'r').read()\n",
        "test = open(path+'eng_testb.txt', 'r').read()\n",
        "train = train.splitlines()\n",
        "test = test.splitlines()"
      ],
      "execution_count": 0,
      "outputs": []
    },
    {
      "cell_type": "code",
      "metadata": {
        "id": "wrdfM_RztWZd",
        "colab_type": "code",
        "colab": {}
      },
      "source": [
        "# Define features to be used by the CRF model\n",
        "\n",
        "def feat_extract(sent):\n",
        "\n",
        "  sent_feat = []\n",
        "\n",
        "  for i in range(len(sent)):\n",
        "    if i == 0:\n",
        "      features = {\n",
        "        'word': sent[i][0].lower(),\n",
        "        'capital_let': sent[i][0][0].isupper(),\n",
        "        'word.isdigit()': sent[i][0].isdigit(),\n",
        "        'pos_tag': sent[i][1],\n",
        "        'chunk_tag': sent[i][2],\n",
        "        'word_before': '',\n",
        "        'word_after':  '' if len(sent)==1 else sent[i+1][0].lower(),\n",
        "        'BOS': True,\n",
        "        'EOS': False\n",
        "      }\n",
        "    elif i == len(sent)-1:\n",
        "      features = {\n",
        "        'word': sent[i][0].lower(),\n",
        "        'capital_let': sent[i][0][0].isupper(),\n",
        "        'word.isdigit()': sent[i][0].isdigit(),\n",
        "        'pos_tag': sent[i][1],\n",
        "        'chunk_tag': sent[i][2],\n",
        "        'word_before': sent[i-1][0].lower(),\n",
        "        'word_after': '',\n",
        "        'BOS': False,\n",
        "        'EOS': True\n",
        "      }\n",
        "    else:\n",
        "      features = {\n",
        "        'word': sent[i][0].lower(),\n",
        "        'capital_let': sent[i][0][0].isupper(),\n",
        "        'word.isdigit()': sent[i][0].isdigit(),\n",
        "        'pos_tag': sent[i][1],\n",
        "        'chunk_tag': sent[i][2],\n",
        "        'word_before': sent[i-1][0].lower(),\n",
        "        'word_after': sent[i+1][0].lower(),\n",
        "        'BOS': False,\n",
        "        'EOS': False\n",
        "      }\n",
        "    sent_feat.append(features)\n",
        "\n",
        "  return sent_feat"
      ],
      "execution_count": 0,
      "outputs": []
    },
    {
      "cell_type": "code",
      "metadata": {
        "id": "m5TFq3FstWb4",
        "colab_type": "code",
        "colab": {}
      },
      "source": [
        "# Create a list containing lists of feature dicts for each sentence\n",
        "def list_features(arq):\n",
        "  ans = []\n",
        "  sentence = []\n",
        "  for i in range(len(arq)):\n",
        "    if len(arq[i].split()) < 3 or i == len(arq)-1:\n",
        "      ans.append(feat_extract(sentence))\n",
        "      sentence = []\n",
        "    else:\n",
        "      sentence.append(arq[i].split())\n",
        "  return ans\n",
        "\n",
        "# Create lists for labels of each sentence\n",
        "def list_labels(arq):\n",
        "  ans = []\n",
        "  sent_labels = []\n",
        "  for i in range(len(arq)):\n",
        "    if len(arq[i].split()) < 3 or i==len(arq)-1:\n",
        "      ans.append(sent_labels)\n",
        "      sent_labels = []\n",
        "    else:\n",
        "      sent_labels.append(arq[i].split()[3])\n",
        "  return ans"
      ],
      "execution_count": 0,
      "outputs": []
    },
    {
      "cell_type": "code",
      "metadata": {
        "id": "4TgzWZdztWeS",
        "colab_type": "code",
        "colab": {}
      },
      "source": [
        "# Create lists of features (dictionaries of features) for each sentence\n",
        "unlabeled_x = list_features(train)\n",
        "x_test = list_features(test)\n",
        "\n",
        "# Create list of labels for each sentence\n",
        "unlabeled_y = list_labels(train)\n",
        "y_test = list_labels(test)\n"
      ],
      "execution_count": 0,
      "outputs": []
    },
    {
      "cell_type": "markdown",
      "metadata": {
        "id": "PfJ0SAuattzS",
        "colab_type": "text"
      },
      "source": [
        "<h2> CRF-suite from sklearn </h2>"
      ]
    },
    {
      "cell_type": "code",
      "metadata": {
        "id": "b3PggJ0ltWgs",
        "colab_type": "code",
        "colab": {
          "base_uri": "https://localhost:8080/",
          "height": 104
        },
        "outputId": "043be1d2-277c-4a6d-f0d9-a9f3f0315124"
      },
      "source": [
        "!pip install sklearn-crfsuite\n",
        "\n",
        "import sklearn_crfsuite\n",
        "from sklearn_crfsuite import metrics"
      ],
      "execution_count": 18,
      "outputs": [
        {
          "output_type": "stream",
          "text": [
            "Requirement already satisfied: sklearn-crfsuite in /usr/local/lib/python3.6/dist-packages (0.3.6)\n",
            "Requirement already satisfied: six in /usr/local/lib/python3.6/dist-packages (from sklearn-crfsuite) (1.12.0)\n",
            "Requirement already satisfied: python-crfsuite>=0.8.3 in /usr/local/lib/python3.6/dist-packages (from sklearn-crfsuite) (0.9.7)\n",
            "Requirement already satisfied: tqdm>=2.0 in /usr/local/lib/python3.6/dist-packages (from sklearn-crfsuite) (4.41.1)\n",
            "Requirement already satisfied: tabulate in /usr/local/lib/python3.6/dist-packages (from sklearn-crfsuite) (0.8.7)\n"
          ],
          "name": "stdout"
        }
      ]
    },
    {
      "cell_type": "code",
      "metadata": {
        "id": "5gM9PpcJtWja",
        "colab_type": "code",
        "colab": {}
      },
      "source": [
        "# Defining CRF model\n",
        "model = sklearn_crfsuite.CRF(\n",
        "    algorithm = 'l2sgd', \n",
        "    c2=1,\n",
        "    max_iterations=100, \n",
        "    all_possible_transitions=True,\n",
        "    verbose=False\n",
        ")"
      ],
      "execution_count": 0,
      "outputs": []
    },
    {
      "cell_type": "code",
      "metadata": {
        "id": "bSu-4IldtWlS",
        "colab_type": "code",
        "colab": {}
      },
      "source": [
        ""
      ],
      "execution_count": 0,
      "outputs": []
    },
    {
      "cell_type": "markdown",
      "metadata": {
        "id": "wWItu833vDtK",
        "colab_type": "text"
      },
      "source": [
        "<h1> Active learning algorithm </h1>\n"
      ]
    },
    {
      "cell_type": "markdown",
      "metadata": {
        "id": "Ac733iL0vP3s",
        "colab_type": "text"
      },
      "source": [
        "<h3> Sampling and utility functions </h3>"
      ]
    },
    {
      "cell_type": "code",
      "metadata": {
        "id": "2v9S4c4PvHuc",
        "colab_type": "code",
        "colab": {}
      },
      "source": [
        "from math import floor\n",
        "from random import sample\n",
        "\n",
        "# Least confidence sampling function (Computed on the sequence of labels chosen by the CRF)\n",
        "\"\"\"def least_confidence(model, unlabeled_x):\n",
        "  min_prob = 1\n",
        "  idx = -1\n",
        "  if not unlabeled_x:\n",
        "    return -1\n",
        "  for i in range(len(unlabeled_x)):\n",
        "    aux = get_confidence(model, unlabeled_x[i])\n",
        "    if aux < min_prob:\n",
        "      idx = i\n",
        "      min_prob = aux\n",
        "  return idx\"\"\"\n",
        "def least_confidence(model, unlabeled_x, batch_sample_size):\n",
        "  # List containing (index, confidence) pairs\n",
        "  idx_conf = []\n",
        "  if not unlabeled_x:\n",
        "    return -1\n",
        "  for i in range(len(unlabeled_x)):\n",
        "    idx_conf.append([i, get_confidence(model, unlabeled_x[i])])\n",
        "  idx_conf.sort(key=lambda x: x[1])\n",
        "  return [idx_conf[i][0] for i in range(min(len(unlabeled_x), batch_sample_size))]\n",
        "\n",
        "# Helper function for the least confidence function (returns the probability of the chosen sentence sent)\n",
        "def get_confidence(model, sent):\n",
        "  marg_prob = model.predict_marginals_single(sent)\n",
        "  predict_labels = model.predict_single(sent)\n",
        "  prob = 1\n",
        "  for i in range(len(predict_labels)):\n",
        "    prob *= marg_prob[i][predict_labels[i]]\n",
        "  return prob\n",
        "\n",
        "# Random sampling function\n",
        "\"\"\"def random_sampling(unlabeled_x):\n",
        "  if not unlabeled_x:\n",
        "    return -1\n",
        "  else:\n",
        "    return randint(0, len(unlabeled_x)-1)\"\"\"\n",
        "def random_sampling(unlabeled_x, batch_sample_size):\n",
        "  if not unlabeled_x:\n",
        "    return -1\n",
        "  else:\n",
        "    return sample(range(min(len(unlabeled_x), batch_sample_size)), min(len(unlabeled_x), batch_sample_size))\n",
        "\n",
        "# Take sample from unlabeled set and add to labeled set from index idx\n",
        "\"\"\"def switch_sets(idx, unlabeled_x, unlabeled_y, labeled_x, labeled_y):\n",
        "  labeled_x.append(unlabeled_x[idx])\n",
        "  labeled_y.append(unlabeled_y[idx])\n",
        "  del unlabeled_x[idx]\n",
        "  del unlabeled_y[idx]\"\"\"\n",
        "def switch_sets(idx, unlabeled_x, unlabeled_y, labeled_x, labeled_y):\n",
        "  idx.sort(reverse = True)\n",
        "  for i in idx:\n",
        "    labeled_x.append(unlabeled_x[i])\n",
        "    labeled_y.append(unlabeled_y[i])\n",
        "    del unlabeled_x[i]\n",
        "    del unlabeled_y[i]\n",
        "\n",
        "\n",
        "# Function to evaluate the model on test set / Code taken from \"https://github.com/TeamHG-Memex/sklearn-crfsuite/blob/master/docs/CoNLL2002.ipynb\" (Turned into function)\n",
        "def eval(crf, x_test, y_test, labels):\n",
        "  y_pred = crf.predict(x_test)\n",
        "  return metrics.flat_f1_score(y_test, y_pred, \n",
        "                      average='weighted', labels=labels)\n",
        "\n",
        "# Function to extract label set from training set / Code taken from \"https://github.com/TeamHG-Memex/sklearn-crfsuite/blob/master/docs/CoNLL2002.ipynb\" (Turned into function) \n",
        "def model_labels(model):\n",
        "  labels = list(model.classes_)\n",
        "  labels.remove('O')\n",
        "  return labels\n",
        "\n",
        "import matplotlib.pyplot as plt"
      ],
      "execution_count": 0,
      "outputs": []
    },
    {
      "cell_type": "markdown",
      "metadata": {
        "id": "EC0BLoPNyNIS",
        "colab_type": "text"
      },
      "source": [
        "<h3> Creating the initial labeled set </h3>"
      ]
    },
    {
      "cell_type": "code",
      "metadata": {
        "id": "H1ocfCSKwxXL",
        "colab_type": "code",
        "colab": {
          "base_uri": "https://localhost:8080/",
          "height": 52
        },
        "outputId": "bddf5124-aa0d-4447-d6d4-1b36728558dc"
      },
      "source": [
        "\n",
        "\n",
        "# Initial labeled set size (percentage >=0 and <=1)\n",
        "labeled_set_size = 0.2\n",
        "train_set_size = len(unlabeled_x)\n",
        "\n",
        "# Define labeled set\n",
        "labeled_x = []\n",
        "labeled_y = []\n",
        "\n",
        "\"\"\"for i in range(floor(labeled_set_size * train_set_size)):\n",
        "  idx = random_sampling(unlabeled_x)\n",
        "  switch_sets(idx, unlabeled_x, unlabeled_y, labeled_x, labeled_y)\"\"\"\n",
        "idx = random_sampling(unlabeled_x, floor(labeled_set_size * train_set_size))\n",
        "switch_sets(idx, unlabeled_x, unlabeled_y, labeled_x, labeled_y)\n",
        "\n",
        "print(len(labeled_x), len(labeled_y))\n",
        "print(len(unlabeled_x), len(unlabeled_y))"
      ],
      "execution_count": 21,
      "outputs": [
        {
          "output_type": "stream",
          "text": [
            "2997 2997\n",
            "11990 11990\n"
          ],
          "name": "stdout"
        }
      ]
    },
    {
      "cell_type": "markdown",
      "metadata": {
        "id": "MblOr5hayXtf",
        "colab_type": "text"
      },
      "source": [
        "<h3> Active learning loop </h3>"
      ]
    },
    {
      "cell_type": "code",
      "metadata": {
        "id": "ZJq8skVPxJSw",
        "colab_type": "code",
        "colab": {
          "base_uri": "https://localhost:8080/",
          "height": 1000
        },
        "outputId": "9f1e15e6-69dd-4413-bee7-01d023e60373"
      },
      "source": [
        "# Define number of iterations (Active learning iterations)\n",
        "iterations = 100\n",
        "# Define number of queries to be made per iteration\n",
        "batch_sample_size = 150\n",
        "\n",
        "# List to save model performance history throughout AL training\n",
        "hist = []\n",
        "# List to save percentage of original training set labeled\n",
        "labeled_size = []\n",
        "\n",
        "# Train initial model\n",
        "model.fit(labeled_x, labeled_y)\n",
        "\n",
        "# Get set of labels except for \"O\"\n",
        "labels = model_labels(model)\n",
        "\n",
        "labeled_size.append(len(labeled_x)/train_set_size)\n",
        "hist.append(eval(model, x_test, y_test, labels))\n",
        "\n",
        "for iter in range(iterations):\n",
        "  print(\"Iterations:\", iter)\n",
        "  # idx = least_confidence(model, unlabeled_x, batch_sample_size)\n",
        "  idx = random_sampling(unlabeled_x, batch_sample_size)\n",
        "  if idx == -1:\n",
        "    break\n",
        "  switch_sets(idx, unlabeled_x, unlabeled_y, labeled_x, labeled_y)\n",
        "  model.fit(labeled_x, labeled_y)\n",
        "  hist.append(eval(model, x_test, y_test, labels))\n",
        "  labeled_size.append(len(labeled_x)/train_set_size)\n",
        "  if not unlabeled_x:\n",
        "    break\n"
      ],
      "execution_count": 22,
      "outputs": [
        {
          "output_type": "stream",
          "text": [
            "Iterations: 0\n",
            "Iterations: 1\n",
            "Iterations: 2\n",
            "Iterations: 3\n",
            "Iterations: 4\n",
            "Iterations: 5\n",
            "Iterations: 6\n",
            "Iterations: 7\n",
            "Iterations: 8\n",
            "Iterations: 9\n",
            "Iterations: 10\n",
            "Iterations: 11\n",
            "Iterations: 12\n",
            "Iterations: 13\n",
            "Iterations: 14\n",
            "Iterations: 15\n",
            "Iterations: 16\n",
            "Iterations: 17\n",
            "Iterations: 18\n",
            "Iterations: 19\n",
            "Iterations: 20\n",
            "Iterations: 21\n",
            "Iterations: 22\n",
            "Iterations: 23\n",
            "Iterations: 24\n",
            "Iterations: 25\n",
            "Iterations: 26\n",
            "Iterations: 27\n",
            "Iterations: 28\n",
            "Iterations: 29\n",
            "Iterations: 30\n",
            "Iterations: 31\n",
            "Iterations: 32\n",
            "Iterations: 33\n",
            "Iterations: 34\n",
            "Iterations: 35\n",
            "Iterations: 36\n",
            "Iterations: 37\n",
            "Iterations: 38\n",
            "Iterations: 39\n",
            "Iterations: 40\n",
            "Iterations: 41\n",
            "Iterations: 42\n",
            "Iterations: 43\n",
            "Iterations: 44\n",
            "Iterations: 45\n",
            "Iterations: 46\n",
            "Iterations: 47\n",
            "Iterations: 48\n",
            "Iterations: 49\n",
            "Iterations: 50\n",
            "Iterations: 51\n",
            "Iterations: 52\n",
            "Iterations: 53\n",
            "Iterations: 54\n",
            "Iterations: 55\n",
            "Iterations: 56\n",
            "Iterations: 57\n",
            "Iterations: 58\n",
            "Iterations: 59\n",
            "Iterations: 60\n",
            "Iterations: 61\n",
            "Iterations: 62\n",
            "Iterations: 63\n",
            "Iterations: 64\n",
            "Iterations: 65\n",
            "Iterations: 66\n",
            "Iterations: 67\n",
            "Iterations: 68\n",
            "Iterations: 69\n",
            "Iterations: 70\n",
            "Iterations: 71\n",
            "Iterations: 72\n",
            "Iterations: 73\n",
            "Iterations: 74\n",
            "Iterations: 75\n",
            "Iterations: 76\n",
            "Iterations: 77\n",
            "Iterations: 78\n",
            "Iterations: 79\n"
          ],
          "name": "stdout"
        }
      ]
    },
    {
      "cell_type": "code",
      "metadata": {
        "id": "rTkd8EcWxJVx",
        "colab_type": "code",
        "colab": {
          "base_uri": "https://localhost:8080/",
          "height": 299
        },
        "outputId": "d739ee0c-eeaa-4d34-8f17-7caa7eeaebd2"
      },
      "source": [
        "import matplotlib.pyplot as plt\n",
        "import matplotlib.patches as mpatches\n",
        "\n",
        "plt.plot(labeled_size, hist)\n",
        "# plt.plot(labeled_size, LC_hist, 'r--')\n",
        "# plt.plot(labeled_size, rand_hist, 'b--')\n",
        "plt.xlabel('% of training set')\n",
        "plt.ylabel('F1-score')\n",
        "# red_patch = mpatches.Patch(color='red', label='LC')\n",
        "# blue_patch = mpatches.Patch(color='blue', label='RAND')\n",
        "# plt.legend(handles=[red_patch, blue_patch])\n"
      ],
      "execution_count": 32,
      "outputs": [
        {
          "output_type": "execute_result",
          "data": {
            "text/plain": [
              "Text(0, 0.5, 'F1-score')"
            ]
          },
          "metadata": {
            "tags": []
          },
          "execution_count": 32
        },
        {
          "output_type": "display_data",
          "data": {
            "image/png": "[encoded data removed]",
            "text/plain": [
              "<Figure size 432x288 with 1 Axes>"
            ]
          },
          "metadata": {
            "tags": [],
            "needs_background": "light"
          }
        }
      ]
    }
  ]
}